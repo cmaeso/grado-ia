{
 "cells": [
  {
   "cell_type": "markdown",
   "metadata": {
    "id": "el8l05WQEO46"
   },
   "source": [
    "# Line Search"
   ]
  },
  {
   "cell_type": "code",
   "execution_count": null,
   "metadata": {
    "id": "xhmIOLiZELV_"
   },
   "outputs": [],
   "source": [
    "import numpy as np\n",
    "import matplotlib.pyplot as plt"
   ]
  },
  {
   "cell_type": "markdown",
   "metadata": {},
   "source": [
    "Creamos una función simple unidimensional:"
   ]
  },
  {
   "cell_type": "code",
   "execution_count": null,
   "metadata": {
    "id": "qFRe9POHF2le"
   },
   "outputs": [],
   "source": [
    "def loss_function(phi):\n",
    "  return 1- 0.5 * np.exp(-(phi-0.65)*(phi-0.65)/0.1) - 0.45 *np.exp(-(phi-0.35)*(phi-0.35)/0.02)\n",
    "\n",
    "def draw_function(loss_function,a=None, b=None, c=None, d=None):\n",
    "  phi_plot = np.arange(0,1,0.01);\n",
    "  fig,ax = plt.subplots()\n",
    "  ax.plot(phi_plot,loss_function(phi_plot),'r-')\n",
    "  ax.set_xlim(0,1); ax.set_ylim(0,1)\n",
    "  ax.set_xlabel(r'$\\phi$'); ax.set_ylabel(r'$L[\\phi]$')\n",
    "  if a is not None and b is not None and c is not None and d is not None:\n",
    "      plt.axvspan(a, d, facecolor='k', alpha=0.2)\n",
    "      ax.plot([a,a],[0,1],'b-')\n",
    "      ax.plot([b,b],[0,1],'b-')\n",
    "      ax.plot([c,c],[0,1],'b-')\n",
    "      ax.plot([d,d],[0,1],'b-')\n",
    "  plt.show()\n",
    "\n",
    "draw_function(loss_function)"
   ]
  },
  {
   "cell_type": "markdown",
   "metadata": {
    "id": "QU5mdGvpTtEG"
   },
   "source": [
    "Definimos la función `line_search`:"
   ]
  },
  {
   "cell_type": "code",
   "execution_count": null,
   "metadata": {
    "id": "K-NTHpAAHlCl"
   },
   "outputs": [],
   "source": [
    "def line_search(loss_function, thresh=.0001, max_iter=10, verbose=False):\n",
    "    # Inicializamos cuatro puntos a lo largo del rango que vamos a buscar\n",
    "    a = 0\n",
    "    b = 0.33\n",
    "    c = 0.66\n",
    "    d = 1.0\n",
    "    n_iter = 0  # Contador de iteraciones\n",
    "\n",
    "    # Mientras no hayamos encontrado el mínimo con suficiente precisión\n",
    "    while np.abs(b - c) > thresh and n_iter < max_iter:\n",
    "        # Incrementamos el contador de iteraciones (para prevenir un bucle infinito)\n",
    "        n_iter = n_iter + 1\n",
    "\n",
    "        # Calculamos los valores de pérdida en los cuatro puntos\n",
    "        lossa = loss_function(a)\n",
    "        lossb = loss_function(b)\n",
    "        lossc = loss_function(c)\n",
    "        lossd = loss_function(d)\n",
    "\n",
    "        if verbose:\n",
    "            draw_function(loss_function, a, b, c, d)\n",
    "\n",
    "        print('Iter %d, a=%3.3f, b=%3.3f, c=%3.3f, d=%3.3f' % (n_iter, a, b, c, d))\n",
    "\n",
    "        # Regla #1: Si la ALTURA en el punto A es menor que la ALTURA en los puntos B, C y D, entonces los movemos\n",
    "        # para que estén a la mitad de la distancia desde A como estaban al principio\n",
    "        # es decir, los acercamos al punto original\n",
    "        #################################### COMPLETAR ####################################\n",
    "        if (0):\n",
    "            continue\n",
    "\n",
    "        # Regla #2: Si la ALTURA en el punto B es menor que la ALTURA en el punto C, entonces\n",
    "        #           el punto D se convierte en el punto C, y\n",
    "        #           el punto B se convierte en 1/3 entre A y el nuevo D\n",
    "        #           el punto C se convierte en 2/3 entre A y el nuevo D\n",
    "        #################################### COMPLETAR ####################################\n",
    "        if (0):\n",
    "            continue\n",
    "\n",
    "        # Regla #3: Si la ALTURA en el punto C es menor que la ALTURA en el punto B, entonces\n",
    "        #           el punto A se convierte en el punto B, y\n",
    "        #           el punto B se convierte en 1/3 entre el nuevo A y D\n",
    "        #           el punto C se convierte en 2/3 entre el nuevo A y D\n",
    "        #################################### COMPLETAR ####################################\n",
    "        if (0):\n",
    "            continue\n",
    "\n",
    "    #################################### COMPLETAR ####################################\n",
    "    # La solución final es el promedio de b y c\n",
    "    sol = \n",
    "    return sol"
   ]
  },
  {
   "cell_type": "code",
   "execution_count": null,
   "metadata": {
    "id": "YVq6rmaWRD2M"
   },
   "outputs": [],
   "source": [
    "sol = line_search(loss_function, verbose=True)\n",
    "print('Sol = %3.3f, loss = %3.3f'%(sol,loss_function(sol)))"
   ]
  }
 ],
 "metadata": {
  "colab": {
   "include_colab_link": true,
   "provenance": []
  },
  "kernelspec": {
   "display_name": "Python 3 (ipykernel)",
   "language": "python",
   "name": "python3"
  },
  "language_info": {
   "codemirror_mode": {
    "name": "ipython",
    "version": 3
   },
   "file_extension": ".py",
   "mimetype": "text/x-python",
   "name": "python",
   "nbconvert_exporter": "python",
   "pygments_lexer": "ipython3",
   "version": "3.10.14"
  }
 },
 "nbformat": 4,
 "nbformat_minor": 4
}
